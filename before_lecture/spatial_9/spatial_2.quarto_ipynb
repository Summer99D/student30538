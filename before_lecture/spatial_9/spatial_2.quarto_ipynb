{
  "cells": [
    {
      "cell_type": "raw",
      "metadata": {},
      "source": [
        "---\n",
        "title: \"Spatial II\"\n",
        "author: \"Peter Ganong and Maggie Shi\"\n",
        "date: today\n",
        "date-format: long\n",
        "execute: \n",
        "    echo: true\n",
        "format:\n",
        "    beamer:\n",
        "        toc: true\n",
        "        fig-height: 2.5\n",
        "        include-in-header: header_pagenrs.tex\n",
        "include-before-body:\n",
        "  text: |\n",
        "    \\RecustomVerbatimEnvironment{verbatim}{Verbatim}{\n",
        "      showspaces = false,\n",
        "      showtabs = false,\n",
        "      breaksymbolleft={},\n",
        "      breaklines\n",
        "    }\n",
        "    \n",
        "--- \n",
        "\n",
        "<!--\n",
        "\n",
        "---"
      ],
      "id": "9cba7994"
    },
    {
      "cell_type": "markdown",
      "metadata": {},
      "source": [
        "title: \"Spatial II\"\n",
        "author: \"Peter Ganong and Maggie Shi\"\n",
        "date: today\n",
        "date-format: long\n",
        "toc: false\n",
        "execute: \n",
        "    echo: true\n",
        "format:\n",
        "    html:\n",
        "        toc: false \n",
        "---\n",
        "\n",
        "-->\n",
        "# Introduction to data structures in geopandas (6.2)\n",
        "\n",
        "## Geopandas roadmap\n",
        "\n",
        "In practice, we won't be coding our geodata by hand... Instead we are going to use shapefiles!\n"
      ],
      "id": "80b056ed"
    },
    {
      "cell_type": "code",
      "metadata": {},
      "source": [
        "import geopandas as gpd"
      ],
      "id": "fa30f063",
      "execution_count": null,
      "outputs": []
    },
    {
      "cell_type": "markdown",
      "metadata": {},
      "source": [
        "Roadmap\n",
        "\n",
        "-   Vocabulary\n",
        "-   File formats\n",
        "-   Read in data\n",
        "-   Preview data\n",
        "\n",
        "## Define vocabulary\n",
        "\n",
        "Vocabulary\n",
        "\n",
        "-   A `GeoDataFrame` is basically like a `pandas.DataFrame` that contains dedicated columns for storing geometries.\n",
        "    - We will start with examples with a single column and later teach you how to use more than one column\n",
        "-   That column is called a `GeoSeries`. This can be any of data types (point, line, polygon) from the prior section. All of the methods you saw in the last section can also be used on a `GeoSeries`\n",
        "\n",
        "\n",
        "## File format I: Shapefile\n",
        "\n",
        "-   consists of at least three files `.shp` has feature geometrics, `.shx` has a positional index, `.dbf` has attribute information\n",
        "-   Usually also have `.prj` which describes the Coordinate Reference System (CRS)\n",
        "-   When you read in `map.shp` it automatically reads the rest of them as well to give you proper GeoDataFrame composed of geometry, attributes and projection.\n",
        "\n",
        "\n",
        "## Coordinate Reference Systems\n",
        "- Coordinate Reference System (CRS) is a combination of:\n",
        "    - \"Datum\": origin of latitude and longitude \n",
        "    - \"Project\": representation of curved surface onto flat map\n",
        "- Most common CRS: WGS84 (used for GPS)\n",
        "- All coordinates are consistent *within* a CRS, but not always *across* CRS's\n",
        "- Different CRS's suit different needs\n",
        "    - optimized for local vs. global accuracy\n",
        "    - different approaches to approx. shape of the earth\n",
        "    - distance is measured in different units: degrees, miles, meters\n",
        "- Each system is associated with a unique *EPSG code*. Searchable on [https://epsg.io](https://epsg.io)\n",
        "    - (Aside: EPSG stands for European Petroleum Survey Group)\n",
        "    - These codes are used to convert one CRS into another\n",
        "\n",
        "<!-- ZZZZ here I would go to the epsg link and search up WGS84 to show that it is EPSG number 4326. https://epsg.io/4326. \n",
        "Then you can look up \"Illinois\" and show that there are Illinois-east and Illinois-west-specific CRS's. \n",
        "The skill they should learn is what a CRS is and how to look up the EPSG numbers so that they can transform from one CRS to another: https://geopandas.org/en/stable/docs/reference/api/geopandas.GeoDataFrame.to_crs.html  -->\n",
        "\n",
        "\n",
        "## Reading a Shapefile `.shp`\n"
      ],
      "id": "0f8c20aa"
    },
    {
      "cell_type": "code",
      "metadata": {},
      "source": [
        "#in same dir:  `.shx` and `.dbf`\n",
        "filepath = \"data/shp/austin_pop_2019.shp\"\n",
        "data = gpd.read_file(filepath)"
      ],
      "id": "27623197",
      "execution_count": null,
      "outputs": []
    },
    {
      "cell_type": "markdown",
      "metadata": {},
      "source": [
        "## File format II: GeoPackage\n",
        "\n",
        "-   single file `.gpkg`\n",
        "-   Supports both raster and vector data\n",
        "-   Efficiently decodable by software, particularly in mobile devices\n",
        "\n",
        "GeoPackage is more modern, but you will encounter shapefiles everywhere you look so good to be familiar with it.\n",
        "\n",
        "## Reading a GeoPackage `gpkg`\n"
      ],
      "id": "a0ed224a"
    },
    {
      "cell_type": "code",
      "metadata": {},
      "source": [
        "filepath = \"data/austin_pop_2019.gpkg\"\n",
        "data = gpd.read_file(filepath)\n",
        "type(data)"
      ],
      "id": "10106928",
      "execution_count": null,
      "outputs": []
    },
    {
      "cell_type": "markdown",
      "metadata": {},
      "source": [
        "## Previewing a `GeoDataFrame`\n"
      ],
      "id": "7c52b9f3"
    },
    {
      "cell_type": "code",
      "metadata": {},
      "source": [
        "data.head()"
      ],
      "id": "5f63df23",
      "execution_count": null,
      "outputs": []
    },
    {
      "cell_type": "markdown",
      "metadata": {},
      "source": [
        "## Previewing a `GeoSeries`\n"
      ],
      "id": "2f3d0d06"
    },
    {
      "cell_type": "code",
      "metadata": {
        "fig-height": 3
      },
      "source": [
        "data.plot()"
      ],
      "id": "72ca3597",
      "execution_count": null,
      "outputs": []
    },
    {
      "cell_type": "markdown",
      "metadata": {},
      "source": [
        "Discussion question: Why isn't it enough to just to `head()`?\n",
        "\n",
        "\n",
        "<!-- ZZZ solution: because WKT isn't intellgible to you for sanity checking. But seeing an actual map is. Also, note that the WKT are not comparable to the WKT we saw in examples earlier because they're on different coordinate reference systems? -->\n",
        "\n",
        "## Geopandas summary\n",
        "\n",
        "-   `GeoDataFrame` and `GeoSeries` are the counterparts of `pandas.DataFrame` and `pandas.Series`\n",
        "-   `.shp` and `.gpkg` are two ways of storing geo data\n",
        "-   Always plot your map before you do anything else\n",
        "\n",
        "# Geometries in geopandas (6.2)\n",
        "\n",
        "## geometries: roadmap\n",
        "\n",
        "-   methods applied to `GeoSeries`\n",
        "-   my first choropleth\n",
        "\n",
        "<!-- MS to GGG: fixed small typo throughout - it's \"choropleth,\" not \"chloropleth.\" Before I taught spatial I also could have sworn it was called chloropleth too! -->\n",
        "\n",
        "## `GeoSeries`\n"
      ],
      "id": "1c7039bc"
    },
    {
      "cell_type": "code",
      "metadata": {},
      "source": [
        "type(data[\"geometry\"])"
      ],
      "id": "c1f642b7",
      "execution_count": null,
      "outputs": []
    },
    {
      "cell_type": "markdown",
      "metadata": {},
      "source": [
        "<!--PG note to self: textbook uses inconsistent syntax for extracting geometry in different places. I have made it consistent to improve clarity-->\n",
        "\n",
        "## `head()`\n"
      ],
      "id": "05d0905e"
    },
    {
      "cell_type": "code",
      "metadata": {},
      "source": [
        "data[\"geometry\"].head()"
      ],
      "id": "8d27306c",
      "execution_count": null,
      "outputs": []
    },
    {
      "cell_type": "markdown",
      "metadata": {},
      "source": [
        "## calculate area (in km\\^2)\n"
      ],
      "id": "b036feb8"
    },
    {
      "cell_type": "code",
      "metadata": {},
      "source": [
        "data[\"geometry\"].area"
      ],
      "id": "9475407f",
      "execution_count": null,
      "outputs": []
    },
    {
      "cell_type": "markdown",
      "metadata": {},
      "source": [
        "## add column to data frame\n"
      ],
      "id": "31e9fdb8"
    },
    {
      "cell_type": "code",
      "metadata": {},
      "source": [
        "#data.area is just a shorthand for data.geometry.area\n",
        "data[\"area_km2\"] = data.area / 1000000\n",
        "data.head()"
      ],
      "id": "d92ba9e4",
      "execution_count": null,
      "outputs": []
    },
    {
      "cell_type": "markdown",
      "metadata": {},
      "source": [
        "<!-- MS to GGG: how do we know that the area is in meters? -->\n",
        "## my first choropleth\n"
      ],
      "id": "d4d41cc7"
    },
    {
      "cell_type": "code",
      "metadata": {},
      "source": [
        "data.plot(column=\"area_km2\", legend=True)"
      ],
      "id": "bdfaa5af",
      "execution_count": null,
      "outputs": []
    },
    {
      "cell_type": "markdown",
      "metadata": {},
      "source": [
        "Why is this a nearly useless set of colors?\n",
        "<!--Usually we do choropleths based on attributes. Will do this in the next section of lecture.-->\n",
        "\n",
        "## geometries: summary\n",
        "\n",
        "-   can do all the same operations on a `GeoSeries` that you would do on any other polygon, like `Area`\n",
        "-   `data.plot(column=\"var\")` draws a choropleth map with shading corresponding to the highlighted variable\n",
        "\n",
        "\n",
        "# Common geometric operations (6.3)\n",
        "\n",
        "## common geometric operations: roadmap\n",
        "\n",
        "* load and explore data\n",
        "* methods\n",
        "    * centroid\n",
        "    * bounding box\n",
        "    * buffer\n",
        "    * dissolve\n",
        "    * spatial join\n",
        "* do-pair-share\n",
        "\n",
        "## Austin, continued\n",
        "\n",
        "(The textbook uses a slightly different file here, unclear why.)"
      ],
      "id": "24b66828"
    },
    {
      "cell_type": "code",
      "metadata": {},
      "source": [
        "filepath = \"data/austin_pop_density_2019.gpkg\"\n",
        "data = gpd.read_file(filepath)"
      ],
      "id": "08859f0c",
      "execution_count": null,
      "outputs": []
    },
    {
      "cell_type": "markdown",
      "metadata": {},
      "source": [
        "## explore the data I"
      ],
      "id": "4e09ecbc"
    },
    {
      "cell_type": "code",
      "metadata": {},
      "source": [
        "data.head()"
      ],
      "id": "2069fb6b",
      "execution_count": null,
      "outputs": []
    },
    {
      "cell_type": "markdown",
      "metadata": {},
      "source": [
        "## explore the data II"
      ],
      "id": "4ee78310"
    },
    {
      "cell_type": "code",
      "metadata": {},
      "source": [
        "type(data[\"geometry\"].values[0])"
      ],
      "id": "3ed53925",
      "execution_count": null,
      "outputs": []
    },
    {
      "cell_type": "markdown",
      "metadata": {},
      "source": [
        "## explore the data III"
      ],
      "id": "b8921474"
    },
    {
      "cell_type": "code",
      "metadata": {},
      "source": [
        "import matplotlib.pyplot as plt\n",
        "data.plot(facecolor=\"none\", linewidth=0.2)\n",
        "plt.axis(\"off\")\n",
        "plt.show()"
      ],
      "id": "a3c08071",
      "execution_count": null,
      "outputs": []
    },
    {
      "cell_type": "markdown",
      "metadata": {},
      "source": [
        "- Import `matplotlib.pyplot` to access additional plotting options (e.g., x and y labels, title)\n",
        "- We turn the axis off because the WKT is not particularly informative\n",
        "\n",
        "\n",
        "## explore the data IV"
      ],
      "id": "27ba470d"
    },
    {
      "cell_type": "code",
      "metadata": {},
      "source": [
        "data.plot(column=\"pop_density_km2\")\n",
        "plt.axis(\"off\")\n",
        "plt.show()"
      ],
      "id": "71c8b249",
      "execution_count": null,
      "outputs": []
    },
    {
      "cell_type": "markdown",
      "metadata": {},
      "source": [
        "- `facecolor` (or `fc` or `color`) defines a uniform color across all geometries\n",
        "- whereas `columns` generates colors based on the underlying values \n",
        "\n",
        "## methods: centroid I\n",
        "\n",
        "What it is: arithmetic mean position of all the points in a polygon\n",
        "<!-- MS to GGG: this used to read \"arithmetic mean position of all the points in the surface of the figure\", but I think \"polygons\" is more accurate? -->\n",
        "\n",
        "Sample use case: measuring distance between center of each multipolygon\n"
      ],
      "id": "616fc613"
    },
    {
      "cell_type": "code",
      "metadata": {},
      "source": [
        "data[\"geometry\"].centroid.head()"
      ],
      "id": "246a6c6a",
      "execution_count": null,
      "outputs": []
    },
    {
      "cell_type": "markdown",
      "metadata": {},
      "source": [
        "## methods: centroid II"
      ],
      "id": "63a54692"
    },
    {
      "cell_type": "code",
      "metadata": {},
      "source": [
        "data.centroid.plot(markersize=1)\n",
        "plt.axis(\"off\")\n",
        "plt.show()"
      ],
      "id": "6542e341",
      "execution_count": null,
      "outputs": []
    },
    {
      "cell_type": "markdown",
      "metadata": {},
      "source": [
        "## methods: bounding box definition\n",
        "\n",
        "What it is: the tightest possible rectangle around a shape, capturing all of its points within this rectangle. \n",
        "\n",
        "Sample use case: filtering a larger spatial dataset to subset of interest\n",
        "\n",
        "## methods: bounding box for each polygon I\n"
      ],
      "id": "8b7e85e4"
    },
    {
      "cell_type": "code",
      "metadata": {},
      "source": [
        "data.envelope.head()"
      ],
      "id": "1e3d15be",
      "execution_count": null,
      "outputs": []
    },
    {
      "cell_type": "markdown",
      "metadata": {},
      "source": [
        "## methods: bounding box for each polygon II"
      ],
      "id": "43899afd"
    },
    {
      "cell_type": "code",
      "metadata": {},
      "source": [
        "data.envelope.plot()"
      ],
      "id": "592704ed",
      "execution_count": null,
      "outputs": []
    },
    {
      "cell_type": "markdown",
      "metadata": {},
      "source": [
        "## methods: bounding box for whole data I"
      ],
      "id": "e5139d5f"
    },
    {
      "cell_type": "code",
      "metadata": {},
      "source": [
        "data.total_bounds"
      ],
      "id": "c55022d7",
      "execution_count": null,
      "outputs": []
    },
    {
      "cell_type": "markdown",
      "metadata": {},
      "source": [
        "## methods: bounding box for whole data II\n",
        "Flashback to section 6.1"
      ],
      "id": "93758195"
    },
    {
      "cell_type": "code",
      "metadata": {},
      "source": [
        "from shapely import Point, Polygon\n",
        "point1 = Point(data.total_bounds[0], data.total_bounds[1])\n",
        "point2 = Point(data.total_bounds[2], data.total_bounds[1])\n",
        "point3 = Point(data.total_bounds[2], data.total_bounds[3])\n",
        "point4 = Point(data.total_bounds[0], data.total_bounds[3])\n",
        "poly = Polygon([point1, point2, point3, point4])\n",
        "#poly"
      ],
      "id": "e7f11929",
      "execution_count": null,
      "outputs": []
    },
    {
      "cell_type": "markdown",
      "metadata": {},
      "source": [
        "- *Note*: the order in which you put these points together matters, and you'll get all sorts of interesting shapes with different orders!\n",
        "\n",
        "<!-- PG to MS:\n",
        "1. data.union_all().envelope should also work, but it is throwing an error for me, I'm curious if it works for you\n",
        "2. One fun thing I learned by accident is that if you put the points in a different order that you get all sorts of interesting shapes. Not sure we really care about this, but could be a fun short in-class exercise\n",
        "\n",
        "MS to GGG: I'm getting \"AttributeError: 'GeoDataFrame' object has no attribute 'union_all'\"\n",
        "Very odd since there's documentation for it... https://geopandas.org/en/latest/docs/reference/api/geopandas.GeoSeries.union_all.html\n",
        "\n",
        "I added a line on that second point!\n",
        "-->\n",
        "\n",
        "## methods: buffer I\n",
        "\n",
        "What it is: shape representing all points that are less than a certain distance from the original shape\n",
        "\n",
        "Sample use case: how many stores or parks near a neighborhood\n",
        "\n",
        "<!-- CC additional suggestion for motivations which I did not include for space reasons\n",
        "* geometries that don’t line up. Coasts are a moving target. Some geometries will go out into the water. Others will have a well-defined coast. \n",
        "* Also for selecting for the spatial relationships\n",
        "-->\n",
        "\n",
        "## methods: buffer II\n"
      ],
      "id": "f8ed0179"
    },
    {
      "cell_type": "code",
      "metadata": {},
      "source": [
        "data.buffer(1000).plot(edgecolor=\"white\") #1000 meters\n",
        "plt.axis(\"off\")\n",
        "plt.show()"
      ],
      "id": "966835b1",
      "execution_count": null,
      "outputs": []
    },
    {
      "cell_type": "markdown",
      "metadata": {},
      "source": [
        "## methods: dissolve I\n",
        "\n",
        "What it is: combining geometries into coarser spatial units based on some attributes. \n",
        "\n",
        "Sample use case: construct the geometries that you want to serve with public transit\n"
      ],
      "id": "021db84f"
    },
    {
      "cell_type": "code",
      "metadata": {},
      "source": [
        "# Create a new column and add a constant value\n",
        "data[\"dense\"] = 0\n",
        "\n",
        "# Filter rows with above average pop density and update the column dense\n",
        "data.loc[data[\"pop_density_km2\"] > data[\"pop_density_km2\"].mean(), \"dense\"] = 1\n",
        "data.dense.value_counts()"
      ],
      "id": "cf1ef4c2",
      "execution_count": null,
      "outputs": []
    },
    {
      "cell_type": "markdown",
      "metadata": {},
      "source": [
        "<!-- MS to GGG: this would be a great discussion question (if the comment was removed): what is that line of code doing? Why would this relate to the sample use described above? Answer: say the city can only serve half of the areas with public transit and wants to create a map with just those areas combined.-->\n",
        "\n",
        "## methods: dissolve II"
      ],
      "id": "26b87915"
    },
    {
      "cell_type": "code",
      "metadata": {},
      "source": [
        "dissolved = data[[\"pop2019\", \"area_km2\", \"dense\", \"geometry\"]].dissolve(\n",
        "    by=\"dense\", aggfunc=\"sum\"\n",
        ")\n",
        "#aggregation step set index to \"dense\", reset to default\n",
        "dissolved = dissolved.reset_index()\n",
        "dissolved"
      ],
      "id": "253fb680",
      "execution_count": null,
      "outputs": []
    },
    {
      "cell_type": "markdown",
      "metadata": {},
      "source": [
        "- Aggregating alters the way the data is indexed and makes the grouping variable the index\n",
        "- We need to reset it in order to plot, since some plotting libraries expect data to be indexed in a specific way\n",
        "\n",
        "<!--\n",
        "PG to MS not sure if we need more detail here. If you want more detail see the conversation here, but that feels like TMI\n",
        "https://chatgpt.com/share/66eb10ee-3a10-800a-bee6-89851e220d69\n",
        "\n",
        "MS to GGG: I was a little confused, so I added in the bullets above. \n",
        "-->\n",
        "\n",
        "## methods: dissolve III"
      ],
      "id": "d554ebca"
    },
    {
      "cell_type": "code",
      "metadata": {},
      "source": [
        "dissolved.plot(column=\"dense\")\n",
        "plt.axis(\"off\")\n",
        "plt.show()"
      ],
      "id": "d96088cc",
      "execution_count": null,
      "outputs": []
    },
    {
      "cell_type": "markdown",
      "metadata": {},
      "source": [
        "Discussion Question: is this a good map? What can we do to improve it?\n",
        "\n",
        "<!-- ZZZ: no -- the reader has no idea what purple and yellow mean. It would be better if we added a legend that indicates that purple areas are above-median in population density while yellow is below-median. -->\n",
        "\n",
        "\n",
        "## methods: spatial join\n",
        "\n",
        "Spatial join: find the closest neighbor.\n",
        "\n",
        "(Contrived) example: Join Austin tracts to themselves. How many tracts should we expect to get?\n"
      ],
      "id": "0eacefd6"
    },
    {
      "cell_type": "code",
      "metadata": {},
      "source": [
        "data_for_join = data[[\"tract\", \"geometry\"]]\n",
        "print(\"N tracts \" + str(len(data_for_join)))\n",
        "join_to_self = gpd.sjoin_nearest(data_for_join, data_for_join, how='inner', distance_col=\"distance\")"
      ],
      "id": "95094d78",
      "execution_count": null,
      "outputs": []
    },
    {
      "cell_type": "markdown",
      "metadata": {},
      "source": [
        "## methods: spatial join II\n"
      ],
      "id": "2f808097"
    },
    {
      "cell_type": "code",
      "metadata": {},
      "source": [
        "print(\"N tracts w closest neighbor \" + str(len(join_to_self)))\n",
        "join_to_self.head(4)"
      ],
      "id": "3bc63083",
      "execution_count": null,
      "outputs": []
    },
    {
      "cell_type": "markdown",
      "metadata": {},
      "source": [
        "## common geometric operations: summary\n",
        "\n",
        "* methods \n",
        "    * centroid computes arithmetic mean of points in the polygon\n",
        "    * bounding box expands polygon in a rectangle\n",
        "    * buffer expands polygon in every direction\n",
        "    * dissolve combines several polygons\n",
        "    * spatial join finds nearest neighbor\n",
        "* do-pair-share\n",
        "\n",
        "## do pair share\n",
        "\n",
        "Goal: Create and plot a 500m buffer zone around the dense areas in Austin.\n",
        "\n",
        "Steps\n",
        "\n",
        "1. From the `dissolved` `GeoDataFrame`, get the polygon for the dense areas\n",
        "2. Create a new geometry object called `geo`, which is the dense areas with a 500m buffer\n",
        "3. `geo.plot()` \n",
        "\n",
        "After you are done, here are some cosmetic suggestions:\n",
        "\n",
        "* Start with a grey plot of all of the Austin boundaries: `austin = data.plot(color=\"grey\")`\n",
        "* Make your buffer transparent\n",
        "* Putting it all together `geo.plot(ax = austin, alpha=0.5)`\n",
        "    - This plots the `geo` object with 50% transparency, on top of axes based on the `austin` object\n"
      ],
      "id": "54b5f14a"
    }
  ],
  "metadata": {
    "kernelspec": {
      "name": "python3",
      "language": "python",
      "display_name": "Python 3 (ipykernel)",
      "path": "/Users/samarnegahdar/Library/Python/3.9/share/jupyter/kernels/python3"
    }
  },
  "nbformat": 4,
  "nbformat_minor": 5
}